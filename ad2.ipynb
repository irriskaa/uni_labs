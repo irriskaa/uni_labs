{
 "cells": [
  {
   "cell_type": "markdown",
   "id": "7f60b898",
   "metadata": {},
   "source": [
    "Засоби підготовки та аналізу даних. \n",
    "\n",
    "ФБ-32 Кухарук Ірина"
   ]
  },
  {
   "cell_type": "markdown",
   "id": "7cce1641",
   "metadata": {},
   "source": [
    "Лабораторна робота №2 Наука про дані: підготовчий етап\n",
    "\n",
    "Мета роботи: ознайомитися з основними кроками по роботі з даними – workflow\n",
    "від постановки задачі до написання пояснювальної записки, зрозуміти постановку задачі\n",
    "та природу даних, над якими виконується аналітичні операції\n",
    "Основні поняття: сирі дані (raw data), підготовка даних (data preparation)"
   ]
  },
  {
   "cell_type": "markdown",
   "id": "03e2114d",
   "metadata": {},
   "source": [
    "1. Імпорт бібліотек"
   ]
  },
  {
   "cell_type": "code",
   "execution_count": null,
   "id": "64350c6d",
   "metadata": {
    "vscode": {
     "languageId": "plaintext"
    }
   },
   "outputs": [],
   "source": [
    "import os\n",
    "import urllib.request\n",
    "from datetime import datetime\n",
    "import pandas as pd\n",
    "import matplotlib.pyplot as plt"
   ]
  },
  {
   "cell_type": "code",
   "execution_count": null,
   "id": "e90041c7",
   "metadata": {
    "vscode": {
     "languageId": "plaintext"
    }
   },
   "outputs": [],
   "source": [
    "def download_vhi(province_id, save_dir=\"data\"):\n",
    "    \"\"\"\n",
    "    Завантажує VHI-дані для певної області (province_id) і зберігає CSV-файл з датою і часом у імені.\n",
    "    \"\"\"\n",
    "    os.makedirs(save_dir, exist_ok=True)\n",
    "    timestamp = datetime.now().strftime(\"%Y%m%d_%H%M%S\")\n",
    "    url = f\"https://www.star.nesdis.noaa.gov/smcd/emb/vci/VH/get_TS_admin.php?country=UKR&provinceID={province_id}&year1=1981&year2=2024&type=Mean\"\n",
    "    filename = f\"vhi_id_{province_id}_{timestamp}.csv\"\n",
    "    filepath = os.path.join(save_dir, filename)\n",
    "\n",
    "    if not os.path.exists(filepath):\n",
    "        with urllib.request.urlopen(url) as response, open(filepath, 'wb') as out_file:\n",
    "            out_file.write(response.read())\n",
    "        print(f\"[✓] Завантажено: {filename}\")\n",
    "    else:\n",
    "        print(f\"[!] Файл уже існує: {filename}\")\n"
   ]
  },
  {
   "cell_type": "markdown",
   "id": "46f962ab",
   "metadata": {},
   "source": []
  },
  {
   "cell_type": "code",
   "execution_count": null,
   "id": "82b37ac1",
   "metadata": {
    "vscode": {
     "languageId": "plaintext"
    }
   },
   "outputs": [],
   "source": [
    "\n",
    "for province_id in range(1, 26):\n",
    "    download_vhi(province_id)\n"
   ]
  }
 ],
 "metadata": {
  "language_info": {
   "name": "python"
  }
 },
 "nbformat": 4,
 "nbformat_minor": 5
}
