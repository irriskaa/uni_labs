{
 "cells": [
  {
   "cell_type": "markdown",
   "id": "7f60b898",
   "metadata": {},
   "source": [
    "Засоби підготовки та аналізу даних. \n",
    "\n",
    "ФБ-32 Кухарук Ірина\n",
    "\n",
    "Комп'ютерний практикум №2 "
   ]
  },
  {
   "cell_type": "markdown",
   "id": "7cce1641",
   "metadata": {},
   "source": []
  }
 ],
 "metadata": {
  "language_info": {
   "name": "python"
  }
 },
 "nbformat": 4,
 "nbformat_minor": 5
}
